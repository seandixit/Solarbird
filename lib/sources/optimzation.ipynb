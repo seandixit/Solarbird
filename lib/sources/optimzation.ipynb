{
 "cells": [
  {
   "cell_type": "code",
   "execution_count": 44,
   "metadata": {},
   "outputs": [
    {
     "name": "stdout",
     "output_type": "stream",
     "text": [
      "{'magnitude': ''}\n",
      "[-86.5  10.  250. ] 0\n",
      "[-86.5  10.  250. ] 0\n",
      "[-86.5  25.  250. ] 0\n",
      "[-86.5  10.  265. ] 0\n",
      "(array([-86.5,  10. , 250. ]), 0, {'grad': array([nan,  0.,  0.]), 'task': 'ABNORMAL_TERMINATION_IN_LNSRCH', 'funcalls': 4, 'nit': 0, 'warnflag': 2})\n"
     ]
    }
   ],
   "source": [
    "import subprocess\n",
    "import json\n",
    "import numpy as np\n",
    "from stochopy.optimize import minimize\n",
    "\n",
    "def run_js_function(lat, long, alt, timeoffset):\n",
    "    # Command to run the JavaScript script with Node.js\n",
    "    command = ['node', 'eclipse_explorer_py.jsx', str(lat), str(long), str(alt), str(timeoffset)]\n",
    "\n",
    "    # Execute the command\n",
    "    result = subprocess.run(command, capture_output=True, text=True)\n",
    "\n",
    "    # Check if the command ran successfully\n",
    "    if result.returncode == 0:\n",
    "        # Parse the output\n",
    "        output = json.loads(result.stdout)\n",
    "        return output\n",
    "    else:\n",
    "        # Handle errors if needed\n",
    "        print(\"Error:\", result.stderr)\n",
    "        return None\n",
    "\n",
    "# Example usage\n",
    "latitude = -86.5\n",
    "longitude = 10.0\n",
    "altitude = 250\n",
    "time_offset = 0.0\n",
    "\n",
    "output = run_js_function(latitude, longitude, altitude, time_offset)\n",
    "print(output)\n",
    "\n",
    "import scipy.optimize as opt\n",
    "import scipy\n",
    "\n",
    "# Define your objective function\n",
    "def calculate_magnitude(x):\n",
    "    lat, long, alt = x[0],x[1],x[2]\n",
    "    output = run_js_function(lat, long, alt, 0)\n",
    "    if output is not None and output['magnitude'] != '':         # - for finding max using fmin\n",
    "        print(x, -float(output['magnitude']))\n",
    "        return -float(output['magnitude'])\n",
    "    else:\n",
    "        print(x, 0)\n",
    "        return 0\n",
    "\n",
    "\n",
    "# LAT: -39, 60)\n",
    "#TODO: set min magnitude to find to be 1.0 (-1); epsilon: learning rate (want big jumps, not 0.0000..., more like 1)\n",
    "bounds = [[-86.5, -86.5], [-39.0,60.0],[0,500]]\n",
    "x = opt.fmin_l_bfgs_b(calculate_magnitude, bounds=bounds, x0=np.array([-86.5, 10.0, 250]) , approx_grad=True, maxiter=100, epsilon=15)\n",
    "print(x)\n",
    "\n",
    "# Find the latitude with maximum obscuration for each longitude in the US\n",
    "def find_max_obscuration_latitudes():\n",
    "    max_obscuration_latitudes = []\n",
    "    \n",
    "    # Iterate over all possible longitudes in the contiguous United States\n",
    "    for long in range(-160, -10):\n",
    "        print(\"Processing longitude:\", long)\n",
    "        # Perform gradient descent to find latitude and altitude with maximum obscuration for the current longitude\n",
    "        best_lat, best_alt, max_obscuration = gradient_descent_for_longitude(long)\n",
    "        \n",
    "        # Append the latitude with maximum obscuration for the current longitude\n",
    "        max_obscuration_latitudes.append((best_lat, long, best_alt, max_obscuration))\n",
    "    \n",
    "    return max_obscuration_latitudes\n",
    "\n",
    "# Find latitudes with maximum obscuration for each longitude\n",
    "#max_obscuration_latitudes = find_max_obscuration_latitudes()\n",
    "\n",
    "# Print the results\n",
    "#for latitude, longitude, altitude, obscuration in max_obscuration_latitudes:\n",
    "#    print(f\"Latitude with max obscuration for longitude {longitude} at altitude {altitude}: {latitude} (Obscuration: {obscuration})\")\n",
    "\n",
    "\n",
    "# TODO: GOTTA PLAY AROUND WITH ALT VALUES"
   ]
  },
  {
   "cell_type": "code",
   "execution_count": null,
   "metadata": {},
   "outputs": [],
   "source": []
  }
 ],
 "metadata": {
  "kernelspec": {
   "display_name": "Python 3",
   "language": "python",
   "name": "python3"
  },
  "language_info": {
   "codemirror_mode": {
    "name": "ipython",
    "version": 3
   },
   "file_extension": ".py",
   "mimetype": "text/x-python",
   "name": "python",
   "nbconvert_exporter": "python",
   "pygments_lexer": "ipython3",
   "version": "3.11.8"
  }
 },
 "nbformat": 4,
 "nbformat_minor": 2
}
